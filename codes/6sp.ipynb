{
 "cells": [
  {
   "attachments": {},
   "cell_type": "markdown",
   "metadata": {},
   "source": [
    "## 1. Preprocess the dataset: preprocess_dataset.py"
   ]
  },
  {
   "cell_type": "code",
   "execution_count": 6,
   "metadata": {},
   "outputs": [
    {
     "name": "stdout",
     "output_type": "stream",
     "text": [
      "                                            LongName  Number of Bugs\n",
      "0  tool/src/org/antlr/v4/semantics/BasicSemanticC...               1\n",
      "1  tool/src/org/antlr/v4/analysis/LeftRecursiveRu...               1\n",
      "2  tool/src/org/antlr/v4/misc/EscapeSequenceParsi...               0\n",
      "3    tool/test/org/antlr/v4/test/TestParserExec.java               2\n",
      "4  runtime/Java/src/org/antlr/v4/runtime/Parser.java               0\n"
     ]
    }
   ],
   "source": [
    "import pandas as pd\n",
    "\n",
    "# Load the CSV file\n",
    "data = pd.read_csv(\"file.csv\")\n",
    "\n",
    "# Extract relevant columns\n",
    "bug_data = data[[\"LongName\", \"Number of Bugs\"]]\n",
    "\n",
    "# Handle missing values if needed\n",
    "bug_data = bug_data.dropna()\n",
    "\n",
    "# Normalize the data if needed\n",
    "# ...\n",
    "\n",
    "# Print the preprocessed dataset\n",
    "print(bug_data.head())"
   ]
  },
  {
   "attachments": {},
   "cell_type": "markdown",
   "metadata": {},
   "source": [
    "## 2. Feature engineering: feature_engineering.py"
   ]
  },
  {
   "cell_type": "code",
   "execution_count": 9,
   "metadata": {},
   "outputs": [
    {
     "name": "stdout",
     "output_type": "stream",
     "text": [
      "                                            LongName  Number of Bugs  \\\n",
      "0  tool/src/org/antlr/v4/semantics/BasicSemanticC...               1   \n",
      "1  tool/src/org/antlr/v4/analysis/LeftRecursiveRu...               1   \n",
      "2  tool/src/org/antlr/v4/misc/EscapeSequenceParsi...               0   \n",
      "3    tool/test/org/antlr/v4/test/TestParserExec.java               2   \n",
      "4  runtime/Java/src/org/antlr/v4/runtime/Parser.java               0   \n",
      "\n",
      "                                              Tokens  \n",
      "0  [tool/src/org/antlr/v4/semantics/BasicSemantic...  \n",
      "1  [tool/src/org/antlr/v4/analysis/LeftRecursiveR...  \n",
      "2  [tool/src/org/antlr/v4/misc/EscapeSequencePars...  \n",
      "3  [tool/test/org/antlr/v4/test/TestParserExec.java]  \n",
      "4  [runtime/Java/src/org/antlr/v4/runtime/Parser....  \n"
     ]
    }
   ],
   "source": [
    "import nltk\n",
    "from nltk.tokenize import word_tokenize\n",
    "\n",
    "# Tokenize the 'LongName' column\n",
    "bug_data['Tokens'] = bug_data['LongName'].apply(word_tokenize)\n",
    "\n",
    "# Extract additional features if needed\n",
    "# ...\n",
    "\n",
    "# Print the updated dataset\n",
    "print(bug_data.head())"
   ]
  },
  {
   "attachments": {},
   "cell_type": "markdown",
   "metadata": {},
   "source": [
    "## 3. Prepare the training data: prepare_training_data.py\n"
   ]
  },
  {
   "cell_type": "code",
   "execution_count": 10,
   "metadata": {},
   "outputs": [
    {
     "name": "stdout",
     "output_type": "stream",
     "text": [
      "Training data size: 56070\n",
      "Validation data size: 14018\n"
     ]
    }
   ],
   "source": [
    "from sklearn.model_selection import train_test_split\n",
    "\n",
    "# Split the dataset into training and validation sets\n",
    "train_data, val_data = train_test_split(bug_data, test_size=0.2, random_state=42)\n",
    "\n",
    "# Prepare input and output data\n",
    "train_input = train_data['Tokens'].tolist()\n",
    "train_output = train_data['Number of Bugs'].tolist()\n",
    "\n",
    "val_input = val_data['Tokens'].tolist()\n",
    "val_output = val_data['Number of Bugs'].tolist()\n",
    "\n",
    "# Print the training and validation data sizes\n",
    "print(\"Training data size:\", len(train_input))\n",
    "print(\"Validation data size:\", len(val_input))"
   ]
  },
  {
   "attachments": {},
   "cell_type": "markdown",
   "metadata": {},
   "source": [
    "## 4. Train the NLP model: train_model.py"
   ]
  },
  {
   "cell_type": "code",
   "execution_count": 12,
   "metadata": {},
   "outputs": [
    {
     "name": "stderr",
     "output_type": "stream",
     "text": [
      "2023-06-13 01:11:15.351206: I tensorflow/core/platform/cpu_feature_guard.cc:193] This TensorFlow binary is optimized with oneAPI Deep Neural Network Library (oneDNN) to use the following CPU instructions in performance-critical operations:  SSE4.1 SSE4.2 AVX AVX2 FMA\n",
      "To enable them in other operations, rebuild TensorFlow with the appropriate compiler flags.\n",
      "2023-06-13 01:11:15.353968: I tensorflow/core/common_runtime/process_util.cc:146] Creating new thread pool with default inter op setting: 2. Tune using inter_op_parallelism_threads for best performance.\n"
     ]
    },
    {
     "ename": "ValueError",
     "evalue": "Failed to find data adapter that can handle input: <class 'numpy.ndarray'>, (<class 'list'> containing values of types {\"<class 'int'>\"})",
     "output_type": "error",
     "traceback": [
      "\u001b[0;31m---------------------------------------------------------------------------\u001b[0m",
      "\u001b[0;31mValueError\u001b[0m                                Traceback (most recent call last)",
      "Cell \u001b[0;32mIn[12], line 26\u001b[0m\n\u001b[1;32m     24\u001b[0m \u001b[39m# Compile and train the model\u001b[39;00m\n\u001b[1;32m     25\u001b[0m model\u001b[39m.\u001b[39mcompile(optimizer\u001b[39m=\u001b[39m\u001b[39m'\u001b[39m\u001b[39madam\u001b[39m\u001b[39m'\u001b[39m, loss\u001b[39m=\u001b[39m\u001b[39m'\u001b[39m\u001b[39mmean_squared_error\u001b[39m\u001b[39m'\u001b[39m)\n\u001b[0;32m---> 26\u001b[0m model\u001b[39m.\u001b[39;49mfit(train_input, train_output, validation_data\u001b[39m=\u001b[39;49m(val_input, val_output), epochs\u001b[39m=\u001b[39;49m\u001b[39m10\u001b[39;49m, batch_size\u001b[39m=\u001b[39;49m\u001b[39m32\u001b[39;49m)\n",
      "File \u001b[0;32m~/anaconda3/lib/python3.10/site-packages/keras/utils/traceback_utils.py:70\u001b[0m, in \u001b[0;36mfilter_traceback.<locals>.error_handler\u001b[0;34m(*args, **kwargs)\u001b[0m\n\u001b[1;32m     67\u001b[0m     filtered_tb \u001b[39m=\u001b[39m _process_traceback_frames(e\u001b[39m.\u001b[39m__traceback__)\n\u001b[1;32m     68\u001b[0m     \u001b[39m# To get the full stack trace, call:\u001b[39;00m\n\u001b[1;32m     69\u001b[0m     \u001b[39m# `tf.debugging.disable_traceback_filtering()`\u001b[39;00m\n\u001b[0;32m---> 70\u001b[0m     \u001b[39mraise\u001b[39;00m e\u001b[39m.\u001b[39mwith_traceback(filtered_tb) \u001b[39mfrom\u001b[39;00m \u001b[39mNone\u001b[39m\n\u001b[1;32m     71\u001b[0m \u001b[39mfinally\u001b[39;00m:\n\u001b[1;32m     72\u001b[0m     \u001b[39mdel\u001b[39;00m filtered_tb\n",
      "File \u001b[0;32m~/anaconda3/lib/python3.10/site-packages/keras/engine/data_adapter.py:1081\u001b[0m, in \u001b[0;36mselect_data_adapter\u001b[0;34m(x, y)\u001b[0m\n\u001b[1;32m   1078\u001b[0m adapter_cls \u001b[39m=\u001b[39m [\u001b[39mcls\u001b[39m \u001b[39mfor\u001b[39;00m \u001b[39mcls\u001b[39m \u001b[39min\u001b[39;00m ALL_ADAPTER_CLS \u001b[39mif\u001b[39;00m \u001b[39mcls\u001b[39m\u001b[39m.\u001b[39mcan_handle(x, y)]\n\u001b[1;32m   1079\u001b[0m \u001b[39mif\u001b[39;00m \u001b[39mnot\u001b[39;00m adapter_cls:\n\u001b[1;32m   1080\u001b[0m     \u001b[39m# TODO(scottzhu): This should be a less implementation-specific error.\u001b[39;00m\n\u001b[0;32m-> 1081\u001b[0m     \u001b[39mraise\u001b[39;00m \u001b[39mValueError\u001b[39;00m(\n\u001b[1;32m   1082\u001b[0m         \u001b[39m\"\u001b[39m\u001b[39mFailed to find data adapter that can handle input: \u001b[39m\u001b[39m{}\u001b[39;00m\u001b[39m, \u001b[39m\u001b[39m{}\u001b[39;00m\u001b[39m\"\u001b[39m\u001b[39m.\u001b[39mformat(\n\u001b[1;32m   1083\u001b[0m             _type_name(x), _type_name(y)\n\u001b[1;32m   1084\u001b[0m         )\n\u001b[1;32m   1085\u001b[0m     )\n\u001b[1;32m   1086\u001b[0m \u001b[39melif\u001b[39;00m \u001b[39mlen\u001b[39m(adapter_cls) \u001b[39m>\u001b[39m \u001b[39m1\u001b[39m:\n\u001b[1;32m   1087\u001b[0m     \u001b[39mraise\u001b[39;00m \u001b[39mRuntimeError\u001b[39;00m(\n\u001b[1;32m   1088\u001b[0m         \u001b[39m\"\u001b[39m\u001b[39mData adapters should be mutually exclusive for \u001b[39m\u001b[39m\"\u001b[39m\n\u001b[1;32m   1089\u001b[0m         \u001b[39m\"\u001b[39m\u001b[39mhandling inputs. Found multiple adapters \u001b[39m\u001b[39m{}\u001b[39;00m\u001b[39m to handle \u001b[39m\u001b[39m\"\u001b[39m\n\u001b[1;32m   1090\u001b[0m         \u001b[39m\"\u001b[39m\u001b[39minput: \u001b[39m\u001b[39m{}\u001b[39;00m\u001b[39m, \u001b[39m\u001b[39m{}\u001b[39;00m\u001b[39m\"\u001b[39m\u001b[39m.\u001b[39mformat(adapter_cls, _type_name(x), _type_name(y))\n\u001b[1;32m   1091\u001b[0m     )\n",
      "\u001b[0;31mValueError\u001b[0m: Failed to find data adapter that can handle input: <class 'numpy.ndarray'>, (<class 'list'> containing values of types {\"<class 'int'>\"})"
     ]
    }
   ],
   "source": [
    "import tensorflow as tf\n",
    "\n",
    "from tensorflow.keras.preprocessing.sequence import pad_sequences\n",
    "from tensorflow.keras.models import Sequential\n",
    "from tensorflow.keras.layers import Embedding, LSTM, Dense\n",
    "from tensorflow.keras.preprocessing.text import Tokenizer\n",
    "\n",
    "\n",
    "# Tokenize the input sequences and pad them to have the same length\n",
    "tokenizer = Tokenizer()\n",
    "tokenizer.fit_on_texts(train_input)\n",
    "\n",
    "train_sequences = tokenizer.texts_to_sequences(train_input)\n",
    "val_sequences = tokenizer.texts_to_sequences(val_input)\n",
    "\n",
    "max_seq_length = max(len(seq) for seq in train_sequences)\n",
    "train_input = pad_sequences(train_sequences, maxlen=max_seq_length)\n",
    "val_input = pad_sequences(val_sequences, maxlen=max_seq_length)\n",
    "\n",
    "# Define the model architecture\n",
    "model = Sequential()\n",
    "model.add(Embedding(input_dim=len(tokenizer.word_index) + 1, output_dim=100, input_length=max_seq_length))\n",
    "model.add(LSTM(units=64))\n",
    "model.add(Dense(units=1, activation='linear'))\n",
    "\n",
    "# Compile and train the model\n",
    "model.compile(optimizer='adam', loss='mean_squared_error')\n",
    "model.fit(train_input, train_output, validation_data=(val_input, val_output), epochs=10, batch_size=32)"
   ]
  },
  {
   "attachments": {},
   "cell_type": "markdown",
   "metadata": {},
   "source": [
    "## 5. Evaluate the model: evaluate_model.py\n"
   ]
  },
  {
   "cell_type": "code",
   "execution_count": null,
   "metadata": {},
   "outputs": [],
   "source": [
    "# Evaluate the model on the validation set\n",
    "loss = model.evaluate(val_input, val_output)\n",
    "print(\"Validation loss:\", loss)"
   ]
  },
  {
   "attachments": {},
   "cell_type": "markdown",
   "metadata": {},
   "source": [
    "## 6. Generate bug reports: generate_bug_reports.py\n"
   ]
  },
  {
   "cell_type": "code",
   "execution_count": 13,
   "metadata": {},
   "outputs": [
    {
     "name": "stdout",
     "output_type": "stream",
     "text": [
      "1/1 [==============================] - 1s 820ms/step\n",
      "Predicted bug reports: [[0.00206707]]\n"
     ]
    }
   ],
   "source": [
    "# Provide a new input for bug report generation\n",
    "new_input = [\"Example input for bug report generation\"]\n",
    "\n",
    "# Preprocess the new input\n",
    "new_input_sequence = tokenizer.texts_to_sequences(new_input)\n",
    "new_input_padded = pad_sequences(new_input_sequence, maxlen=max_seq_length)\n",
    "\n",
    "# Use the trained model to generate bug reports\n",
    "predicted_output = model.predict(new_input_padded)\n",
    "\n",
    "# Print the predicted bug reports\n",
    "print(\"Predicted bug reports:\", predicted_output)"
   ]
  }
 ],
 "metadata": {
  "kernelspec": {
   "display_name": "base",
   "language": "python",
   "name": "python3"
  },
  "language_info": {
   "codemirror_mode": {
    "name": "ipython",
    "version": 3
   },
   "file_extension": ".py",
   "mimetype": "text/x-python",
   "name": "python",
   "nbconvert_exporter": "python",
   "pygments_lexer": "ipython3",
   "version": "3.10.9"
  },
  "orig_nbformat": 4
 },
 "nbformat": 4,
 "nbformat_minor": 2
}
