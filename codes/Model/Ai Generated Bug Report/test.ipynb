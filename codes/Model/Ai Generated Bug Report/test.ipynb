{
 "cells": [
  {
   "cell_type": "markdown",
   "id": "f10c1499",
   "metadata": {},
   "source": [
    "## Import NLTK and other necessary libraries:"
   ]
  },
  {
   "cell_type": "code",
   "execution_count": 1,
   "id": "db03f381",
   "metadata": {},
   "outputs": [
    {
     "name": "stderr",
     "output_type": "stream",
     "text": [
      "[nltk_data] Downloading package punkt to /home/gimhara/nltk_data...\n",
      "[nltk_data]   Package punkt is already up-to-date!\n",
      "[nltk_data] Downloading package averaged_perceptron_tagger to\n",
      "[nltk_data]     /home/gimhara/nltk_data...\n",
      "[nltk_data]   Unzipping taggers/averaged_perceptron_tagger.zip.\n",
      "[nltk_data] Downloading package stopwords to\n",
      "[nltk_data]     /home/gimhara/nltk_data...\n",
      "[nltk_data]   Package stopwords is already up-to-date!\n",
      "[nltk_data] Downloading package wordnet to /home/gimhara/nltk_data...\n"
     ]
    },
    {
     "data": {
      "text/plain": [
       "True"
      ]
     },
     "execution_count": 1,
     "metadata": {},
     "output_type": "execute_result"
    }
   ],
   "source": [
    "import nltk\n",
    "from nltk import sent_tokenize, word_tokenize, pos_tag\n",
    "from nltk.corpus import stopwords\n",
    "from nltk.stem import WordNetLemmatizer\n",
    "import string\n",
    "\n",
    "nltk.download('punkt')\n",
    "nltk.download('averaged_perceptron_tagger')\n",
    "nltk.download('stopwords')\n",
    "nltk.download('wordnet')"
   ]
  },
  {
   "cell_type": "markdown",
   "id": "e3aa84f4",
   "metadata": {},
   "source": [
    "## Define a function to generate a bug report from a bug description. This function will preprocess the input description, extract key information, and generate a report:"
   ]
  },
  {
   "cell_type": "code",
   "execution_count": 4,
   "id": "fb687a8d",
   "metadata": {},
   "outputs": [],
   "source": [
    "def generate_bug_report(description):\n",
    "    # Tokenize the description into sentences\n",
    "    sentences = sent_tokenize(description)\n",
    "\n",
    "    # Initialize lists to store keywords and sentences\n",
    "    keywords = []\n",
    "    report_sentences = []\n",
    "\n",
    "    # Define stopwords and punctuation\n",
    "    stop_words = set(stopwords.words('english'))\n",
    "    punctuation = set(string.punctuation)\n",
    "\n",
    "    # Initialize the WordNet lemmatizer\n",
    "    lemmatizer = WordNetLemmatizer()\n",
    "\n",
    "    # Process each sentence\n",
    "    for sentence in sentences:\n",
    "        # Tokenize the sentence into words and remove stopwords and punctuation\n",
    "        words = [word.lower() for word in word_tokenize(sentence) if word.lower() not in stop_words and word.lower() not in punctuation]\n",
    "\n",
    "        # Perform part-of-speech tagging to identify nouns and verbs\n",
    "        tagged_words = pos_tag(words)\n",
    "\n",
    "        # Extract nouns and verbs as keywords\n",
    "        keywords.extend([lemmatizer.lemmatize(word, pos='n') for word, pos in tagged_words if pos.startswith('N') or pos.startswith('V')])\n",
    "\n",
    "        # Store the original sentence in the report\n",
    "        report_sentences.append(sentence)\n",
    "\n",
    "    # Construct the bug report\n",
    "    bug_report = \"Bug Description:\\n\" + description + \"\\n\\n\"\n",
    "    bug_report += \"Keywords:\\n\" + \", \".join(keywords) + \"\\n\\n\"\n",
    "    bug_report += \"Bug Report:\\n\" + \" \".join(report_sentences)\n",
    "\n",
    "    return bug_report"
   ]
  },
  {
   "cell_type": "markdown",
   "id": "abd543bb",
   "metadata": {},
   "source": [
    "## Provide a bug description. Replace bug_description with the description of the bug you want to report:"
   ]
  },
  {
   "cell_type": "code",
   "execution_count": 12,
   "id": "3a19134f",
   "metadata": {},
   "outputs": [],
   "source": [
    "bug_description = \"\"\"Chrome Version       : 6.0.447.0 (Official Build 50594) betaURLs (if applicable) : http://web.mit.edu/jgross/Public/dnd.htmlOther browsers tested:Add OK or FAIL after other browsers where you have tested this issue: Safari 4.0.5: FAIL     Safari 5: FAILFirefox 3.6.6: OKIE 7:         IE 8: FAILWhat steps will reproduce the problem?1. Go to http://web.mit.edu/jgross/Public/dnd.html2. Begin dragging the imageWhat is the expected result?A dialog pops up, saying 1 = 1What happens instead?A dialog pops up, saying 1 = undefinedPlease provide any additional information below. Attach a screenshot ifpossible.The relevant source code of the page is:<img draggable ondragstart=\"dragStartHandler(event)\" src=\"http://www.google.com/intl/en_ALL/images/srpr/logo1w.png\"><script type=\"text/javascript\">function dragStartHandler(event) {    for (var i in event.dataTransfer) alert(i);    event.dataTransfer.setData('text/plain', '1');    alert('1 = ' + event.dataTransfer.getData('text/plain'));}</script>\"\"\""
   ]
  },
  {
   "cell_type": "markdown",
   "id": "7bf656e4",
   "metadata": {},
   "source": [
    "## Generate the bug report by calling the generate_bug_report function with the bug description as input:"
   ]
  },
  {
   "cell_type": "code",
   "execution_count": 13,
   "id": "85e2a029",
   "metadata": {},
   "outputs": [],
   "source": [
    "bug_report = generate_bug_report(bug_description)"
   ]
  },
  {
   "cell_type": "markdown",
   "id": "8d1a5ce0",
   "metadata": {},
   "source": [
    "## Print the generated bug report:"
   ]
  },
  {
   "cell_type": "code",
   "execution_count": 14,
   "id": "dbc4383e",
   "metadata": {},
   "outputs": [
    {
     "name": "stdout",
     "output_type": "stream",
     "text": [
      "Generated Bug Report:\n",
      "Bug Description:\n",
      "Chrome Version       : 6.0.447.0 (Official Build 50594) betaURLs (if applicable) : http://web.mit.edu/jgross/Public/dnd.htmlOther browsers tested:Add OK or FAIL after other browsers where you have tested this issue: Safari 4.0.5: FAIL     Safari 5: FAILFirefox 3.6.6: OKIE 7:         IE 8: FAILWhat steps will reproduce the problem?1. Go to http://web.mit.edu/jgross/Public/dnd.html2. Begin dragging the imageWhat is the expected result?A dialog pops up, saying 1 = 1What happens instead?A dialog pops up, saying 1 = undefinedPlease provide any additional information below. Attach a screenshot ifpossible.The relevant source code of the page is:<img draggable ondragstart=\"dragStartHandler(event)\" src=\"http://www.google.com/intl/en_ALL/images/srpr/logo1w.png\"><script type=\"text/javascript\">function dragStartHandler(event) {    for (var i in event.dataTransfer) alert(i);    event.dataTransfer.setData('text/plain', '1');    alert('1 = ' + event.dataTransfer.getData('text/plain'));}</script>\n",
      "\n",
      "Keywords:\n",
      "version, official, build, betaurls, http, browser, tested, add, browser, tested, issue, safari, fail, safari, failfirefox, okie, ie, step, reproduce, problem, go, http, //web.mit.edu/jgross/public/dnd.html2, begin, dragging, expected, result, dialog, pop, saying, happens, dialog, pop, saying, provide, information, attach, screenshot, source, code, page, img, ondragstart=, dragstarthandler, event, src=, http, //www.google.com/intl/en_all/images/srpr/logo1w.png, script, type=, text/javascript, function, dragstarthandler, event, var, event.datatransfer, event.datatransfer.setdata, event.datatransfer.getdata, /script\n",
      "\n",
      "Bug Report:\n",
      "Chrome Version       : 6.0.447.0 (Official Build 50594) betaURLs (if applicable) : http://web.mit.edu/jgross/Public/dnd.htmlOther browsers tested:Add OK or FAIL after other browsers where you have tested this issue: Safari 4.0.5: FAIL     Safari 5: FAILFirefox 3.6.6: OKIE 7:         IE 8: FAILWhat steps will reproduce the problem?1. Go to http://web.mit.edu/jgross/Public/dnd.html2. Begin dragging the imageWhat is the expected result?A dialog pops up, saying 1 = 1What happens instead?A dialog pops up, saying 1 = undefinedPlease provide any additional information below. Attach a screenshot ifpossible.The relevant source code of the page is:<img draggable ondragstart=\"dragStartHandler(event)\" src=\"http://www.google.com/intl/en_ALL/images/srpr/logo1w.png\"><script type=\"text/javascript\">function dragStartHandler(event) {    for (var i in event.dataTransfer) alert(i);    event.dataTransfer.setData('text/plain', '1');    alert('1 = ' + event.dataTransfer.getData('text/plain'));}</script>\n"
     ]
    }
   ],
   "source": [
    "print(\"Generated Bug Report:\")\n",
    "print(bug_report)"
   ]
  },
  {
   "cell_type": "markdown",
   "id": "3de18b11",
   "metadata": {},
   "source": [
    "# New One"
   ]
  },
  {
   "cell_type": "code",
   "execution_count": 30,
   "id": "c4143f78",
   "metadata": {},
   "outputs": [
    {
     "name": "stdout",
     "output_type": "stream",
     "text": [
      "While using Chrome Version 6.0.447.0 (Official Build 50594) beta, I found a bug on http://web.mit.edu/jgross/Public/dnd.html. The issue arises when I dragging an image.\n"
     ]
    }
   ],
   "source": [
    "import nltk\n",
    "from nltk.corpus import stopwords\n",
    "from nltk.tokenize import word_tokenize, sent_tokenize\n",
    "import random\n",
    "\n",
    "# Sample bug description\n",
    "bug_description = \"\"\" Chrome Version       : 6.0.472.0URLs (if applicable) : allOther browsers tested:Add OK or FAIL after other browsers where you have tested this issue:     Safari 4: n/a  Firefox 3.x: OK         IE 7: n/a         IE 8: OKWhat steps will reproduce the problem?1. set Windows 7 (Aero enabled) to run at a high dpi (I'm at 149dpi, but anything above the default will show the issue).2. Open Chrome v. 6.0.472.0What is the expected result?1. Chrome's user interface and the webpages should scale with the high dpi setting.What happens instead?1. The native (non-scaled) interface is shown and the pages need to be manually zoomed in order to increase their size.example: before the new dev release with the issue, google.com is usable and readable on my screen when Windows is set at 149dpi and 100% (default) zoom.  After the issue, I need to manually zoom beyond 100% so it is displayed the same size as the previous Chrome version when it was set at 100%.2. Both the interface AND the rendered page show the issue.Please provide any additional information below. Attach a screenshot ifpossible.1. Reverting to the latest beta release resolved the issue (5.0.375.99 (Official Build 51029) beta.2. Selecting and deselecting \"disable display scaling on high dpi settings\" did not change the behavior of Chrome when 6.0.472 was installed.3. The \"disable display scaling...\" option was always deselected when Chrome was working properly.4. every other program on my computer is displaying properly with the high dpi setting  the latest dev release 6.0.472.0 is the first in a long time (~1 year+?) which didn't work properly at high Windows dpi.\"\"\"\n",
    "\n",
    "# Tokenize the bug description into sentences\n",
    "sentences = sent_tokenize(bug_description)\n",
    "\n",
    "# Remove stop words and tokenize words in each sentence\n",
    "stop_words = set(stopwords.words(\"english\"))\n",
    "bug_tokens = [\n",
    "    [word for word in word_tokenize(sentence.lower()) if word.isalnum() and word not in stop_words]\n",
    "    for sentence in sentences\n",
    "]\n",
    "\n",
    "# Create a list of possible bug report templates\n",
    "bug_report_templates = [\n",
    "    \"I encountered an issue with Chrome Version {} when visiting {}. The problem occurs when using {}.\",\n",
    "    \"While using Chrome Version {}, I found a bug on {}. The issue arises when I {}.\",\n",
    "    \"When testing Chrome Version {}, I observed a bug on {}. The bug happens when {}.\",\n",
    "]\n",
    "\n",
    "# Generate a random bug report using a template\n",
    "bug_report_template = random.choice(bug_report_templates)\n",
    "generated_bug_report = bug_report_template.format(\n",
    "    \"6.0.447.0 (Official Build 50594) beta\", \"http://web.mit.edu/jgross/Public/dnd.html\", \"dragging an image\"\n",
    ")\n",
    "\n",
    "# Print the generated bug report\n",
    "print(generated_bug_report)\n"
   ]
  }
 ],
 "metadata": {
  "celltoolbar": "Slideshow",
  "kernelspec": {
   "display_name": "Python 3 (ipykernel)",
   "language": "python",
   "name": "python3"
  },
  "language_info": {
   "codemirror_mode": {
    "name": "ipython",
    "version": 3
   },
   "file_extension": ".py",
   "mimetype": "text/x-python",
   "name": "python",
   "nbconvert_exporter": "python",
   "pygments_lexer": "ipython3",
   "version": "3.11.3"
  }
 },
 "nbformat": 4,
 "nbformat_minor": 5
}
